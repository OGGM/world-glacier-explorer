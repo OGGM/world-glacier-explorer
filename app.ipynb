{
 "cells": [
  {
   "cell_type": "code",
   "execution_count": null,
   "metadata": {
    "scrolled": true
   },
   "outputs": [],
   "source": [
    "import os, numpy as np, pandas as pd, cartopy.crs as ccrs, bokeh\n",
    "import holoviews as hv, geoviews as gv, datashader as ds, panel as pn\n",
    "from holoviews.operation.datashader import rasterize, datashade\n",
    "from colorcet import bmy, bgyw, isolum\n",
    "from holoviews.util import Dynamic\n",
    "from bokeh.models import HoverTool, CustomJSHover\n",
    "hv.extension('bokeh', width=100)\n",
    "pn.extension()"
   ]
  },
  {
   "cell_type": "markdown",
   "metadata": {},
   "source": [
    "## Read the data "
   ]
  },
  {
   "cell_type": "code",
   "execution_count": null,
   "metadata": {},
   "outputs": [],
   "source": [
    "data = pd.read_hdf('./data/rgi62_era5_itmix_df.h5', 'df')\n",
    "data = data.rename(columns={'Area':'area'})\n",
    "data['latdeg'] = data.CenLat\n",
    "data['vol_asl_m3'] = data.vol_itmix_m3 - data.vol_bsl_itmix_m3\n",
    "data['vol_itmix_km3'] = data.vol_itmix_m3 * 1e-9\n",
    "data.tail()"
   ]
  },
  {
   "cell_type": "code",
   "execution_count": null,
   "metadata": {},
   "outputs": [],
   "source": [
    "# Correct glaciers bsl\n",
    "to_corr = data.loc[data.Zmed < 0]\n",
    "data.loc[data.Zmed < 0, 'era5_avg_temp_at_zmed'] = to_corr['era5_avg_temp_at_zmed'] + to_corr.Zmed * 0.0065\n",
    "data.loc[data.Zmed < 0, 'Zmed'] = 0"
   ]
  },
  {
   "cell_type": "code",
   "execution_count": null,
   "metadata": {},
   "outputs": [],
   "source": [
    "total_area = data.area.sum()\n",
    "total_vol = data.vol_itmix_km3.sum()"
   ]
  },
  {
   "cell_type": "markdown",
   "metadata": {},
   "source": [
    "## Convert to HoloViews dataset"
   ]
  },
  {
   "cell_type": "code",
   "execution_count": null,
   "metadata": {},
   "outputs": [],
   "source": [
    "data = gv.Points(data, [('CenLon', 'Longitude'), ('CenLat', 'Latitude')],\n",
    "                       [('era5_avg_pcp', 'Annual Precipitation (mm/yr)'),\n",
    "                       ('area', 'Area'),  ('latdeg', 'Latitude (deg)'),\n",
    "                       ('era5_avg_temp_at_zmed', 'Annual Temperature at avg. altitude (°C)'), \n",
    "                       ('Zmed', 'Mean elevation of the glacier (m)'), ('vol_asl_m3', 'Volume asl'),\n",
    "                       ('vol_bsl_itmix_m3', 'Volume bsl'),\n",
    "                       ('vol_itmix_km3', 'Volume km3'),\n",
    "                       ('era5_trend', 'Temperature trend 1979-2018 (°C per decade)')])\n",
    "data = gv.Dataset(gv.operation.project_points(data))"
   ]
  },
  {
   "cell_type": "markdown",
   "metadata": {},
   "source": [
    "## Sea-level equivalent computation"
   ]
  },
  {
   "cell_type": "code",
   "execution_count": null,
   "metadata": {},
   "outputs": [],
   "source": [
    "def compute_slr(ice_vol_m3):\n",
    "    \"\"\"ice_vol in m³ gives slr in mm\"\"\"\n",
    "    rho = 900\n",
    "    A_oc = 362.5 * 1e12\n",
    "    return ice_vol_m3 * rho / A_oc\n",
    "\n",
    "total_slr = compute_slr(data['vol_asl_m3']).sum()\n",
    "np.testing.assert_allclose(total_slr, 332, atol=2)"
   ]
  },
  {
   "cell_type": "markdown",
   "metadata": {},
   "source": [
    "## Plots kwargs "
   ]
  },
  {
   "cell_type": "code",
   "execution_count": null,
   "metadata": {},
   "outputs": [],
   "source": [
    "# Datashader map\n",
    "geo_kw    = dict(aggregator=ds.sum('area'), x_sampling=1000, y_sampling=1000)\n",
    "# Elev vs Lat scatter\n",
    "elev_kw   = dict(cmap='#7d3c98')\n",
    "# Histograms\n",
    "temp_kw   = dict(num_bins=50, adjoin=False, normed=False, bin_range=data.range('era5_avg_temp_at_zmed'))\n",
    "prcp_kw   = dict(num_bins=50, adjoin=False, normed=False, bin_range=(0, 6000))  # for precip we crop large values\n",
    "tren_kw   = dict(num_bins=50, adjoin=False, normed=False, bin_range=data.range('era5_trend'))"
   ]
  },
  {
   "cell_type": "code",
   "execution_count": null,
   "metadata": {},
   "outputs": [],
   "source": [
    "size_opts_map = dict(height=520, width=715)\n",
    "size_opts_his = dict(height=200, width=350)\n",
    "size_opts_bar = dict(height=45,  width=250)\n",
    "size_opts_slr = dict(height=300, width=120)\n",
    "size_text_bar = dict(height=20)"
   ]
  },
  {
   "cell_type": "code",
   "execution_count": null,
   "metadata": {},
   "outputs": [],
   "source": [
    "geo_opts  = dict(size_opts_map, cmap=bmy, global_extent=False, logz=True, colorbar=True, colorbar_opts={'title':'Area (km²)'}, toolbar='above', projection=ccrs.GOOGLE_MERCATOR)\n",
    "elev_opts = dict(size_opts_his, show_grid=True)\n",
    "temp_opts = dict(size_opts_his, fill_color='#f1948a', default_tools=[], toolbar=None, alpha=1.0, ylabel='')\n",
    "prcp_opts = dict(size_opts_his, fill_color='#85c1e9', default_tools=[], toolbar=None, alpha=1.0, ylabel='')\n",
    "tren_opts = dict(size_opts_his, fill_color='#f4d34e', default_tools=[], toolbar=None, alpha=0.85)\n",
    "slr_opts  = dict(size_opts_slr, color='orange', default_tools=[],  toolbar=None, xlabel='', show_legend=False, yticks=[0, 50, 100, 150,200,250,300,350,390], shared_axes=False)\n",
    "glno_opts = dict(size_opts_bar, color='#326a86', default_tools=[], toolbar=None, alpha=0.8, invert_axes=True, show_legend=False, xaxis=None, yaxis=None, shared_axes=False)\n",
    "area_opts = dict(size_opts_bar, color='#326a86', default_tools=[], toolbar=None, alpha=0.8, invert_axes=True, show_legend=False, xaxis=None, yaxis=None, shared_axes=False)\n",
    "vol_opts  = dict(size_opts_bar, color='#326a86', default_tools=[], toolbar=None, alpha=0.8, invert_axes=True, show_legend=False, xaxis=None, yaxis=None, shared_axes=False)"
   ]
  },
  {
   "cell_type": "markdown",
   "metadata": {},
   "source": [
    "## Language settings"
   ]
  },
  {
   "cell_type": "code",
   "execution_count": null,
   "metadata": {},
   "outputs": [],
   "source": [
    "language = 'en'\n",
    "change_index = True"
   ]
  },
  {
   "cell_type": "markdown",
   "metadata": {},
   "source": [
    "## Plots "
   ]
  },
  {
   "cell_type": "code",
   "execution_count": null,
   "metadata": {},
   "outputs": [],
   "source": [
    "# static plots\n",
    "static_temp = data.hist('era5_avg_temp_at_zmed', **temp_kw).options(**temp_opts).options(alpha=0.1)\n",
    "static_prcp = data.hist('era5_avg_pcp',          **prcp_kw).options(**prcp_opts).options(alpha=0.1)\n",
    "static_tren = data.hist('era5_trend',            **tren_kw).options(**tren_opts).options(alpha=0.1) \n",
    "static_slr  = hv.Bars([('asl', compute_slr(np.sum(data['vol_asl_m3']))), ('bsl', compute_slr(np.sum(data['vol_bsl_itmix_m3'])))]).opts(**slr_opts).options(alpha=0.1)"
   ]
  },
  {
   "cell_type": "code",
   "execution_count": null,
   "metadata": {},
   "outputs": [],
   "source": [
    "gl_number = len(data['area'])\n",
    "\n",
    "def geo(data):    return gv.Points(data, crs=ccrs.PlateCarree).options(alpha=1)\n",
    "def elev(data):   return data.to(hv.Scatter, 'Zmed', 'latdeg', [])\n",
    "\n",
    "def temp(data, change=change_index):\n",
    "    x_label_temp = {'en': 'Annual Temperature at avg. altitude (°C)',\n",
    "                    'de': 'Jahresdurchschnittstemperatur in mittlerer Höhe (°C)'}[language]\n",
    "    return static_temp * data.hist('era5_avg_temp_at_zmed', **temp_kw).options(**temp_opts, xlabel=x_label_temp)    \n",
    "\n",
    "def prcp(data, change=change_index):   \n",
    "    x_label_prcp = {'en': 'Annual Precipitation (mm/yr)',\n",
    "                    'de': 'Jährlicher Niederschlag (mm/Jahr)'}[language]\n",
    "    return static_prcp * data.hist('era5_avg_pcp',          **prcp_kw).options(**prcp_opts, xlabel=x_label_prcp)\n",
    "\n",
    "def tren(data, change=change_index):   \n",
    "    x_label_tren = {'en': 'Temperature trend 1979-2018 (°C/decade)',\n",
    "                    'de': 'Temperaturtrend 1979-2018 (°C/Dekade)'}[language]\n",
    "    y_label_tren = {'en': 'Count',\n",
    "                    'de': 'Anzahl'}[language]\n",
    "    return static_tren * data.hist('era5_trend',            **tren_kw).options(**tren_opts, xlabel=x_label_tren, ylabel=y_label_tren)\n",
    "\n",
    "def slr(data, change=change_index):\n",
    "    y_label_slr  = {'en': 'Volume in mm sea-level equivalent',\n",
    "                    'de': 'Beitrag zum Meeresspiegelanstieg in mm'}[language]\n",
    "    return static_slr * hv.Bars([('asl', compute_slr(np.sum(data['vol_asl_m3']))), ('bsl', compute_slr(np.sum(data['vol_bsl_itmix_m3'])))]).opts(\n",
    "                    **slr_opts, ylabel=y_label_slr)\n",
    "# only texts:\n",
    "def count1(data, change=change_index): \n",
    "    count1_text = {'en': '<p style=\"font-size:15px\">Glaciers selected: \\n {} of {}',\n",
    "                   'de': '<p style=\"font-size:15px\">Ausgewählte Gletscher: \\n {} von {}'}[language]\n",
    "    return hv.Div(count1_text.format(len(data), gl_number)).options(**size_text_bar)\n",
    "\n",
    "def count2(data, change=change_index): \n",
    "    count2_text = {'en': '<p style=\"font-size:15px\">Area: {:.0f} km² ({:.1f}%)</font>',\n",
    "                   'de': '<p style=\"font-size:15px\">Fläche: {:.0f} km² ({:.1f}%)'}[language]\n",
    "    return hv.Div(count2_text.format(np.sum(data['area']), np.sum(data['area']) / total_area * 100)).options(**size_text_bar)\n",
    "def count3(data, change=change_index): \n",
    "    count3_text = {'en': '<p style=\"font-size:15px\">Volume: {:.0f} km³ ({:.1f}%)</font>',\n",
    "                   'de': '<p style=\"font-size:15px\">Volumen: {:.0f} km² ({:.1f}%)'}[language]\n",
    "    return hv.Div(count3_text.format(np.sum(data['vol_itmix_km3']), np.sum(data['vol_itmix_km3']) / total_vol * 100)).options(**size_text_bar)\n",
    "\n",
    "def slr_text(data, change=change_index): \n",
    "    slr_tex = {'en': '<p style=\"font-size:15px\">Sea-level equivalent: {:.1f} mm ({:.1f}%)</font>',\n",
    "               'de': '<p style=\"font-size:15px\">Beitrag zum Meeresspiegelanstieg: <br> {:.1f} mm ({:.1f}%)</font>'}[language]\n",
    "    return hv.Div(slr_tex.format(compute_slr(np.sum(data['vol_asl_m3'])), compute_slr(np.sum(data['vol_asl_m3'])) / total_slr * 100)).options(**size_text_bar)\n",
    "\n",
    "##-- bars without language --##\n",
    "def gl_no(data):  return hv.Bars(('', len(data))).opts(**glno_opts)\n",
    "def area(data):   return hv.Bars(('', np.sum(data['area']))).opts(**area_opts)\n",
    "def vol(data):    return hv.Bars(('', np.sum(data['vol_itmix_km3']))).opts(**vol_opts)"
   ]
  },
  {
   "cell_type": "markdown",
   "metadata": {},
   "source": [
    "### Static "
   ]
  },
  {
   "cell_type": "code",
   "execution_count": null,
   "metadata": {},
   "outputs": [],
   "source": [
    "static_geo  = rasterize(geo(data),   **geo_kw).options(alpha=0.1, tools=['hover', 'box_select'], active_tools=['box_select'], **geo_opts) \n",
    "static_elev = datashade(elev(data), **elev_kw).options(alpha=0.1, tools=[         'box_select'], active_tools=['box_select'], toolbar=None, **elev_opts)\n",
    "static_gl_no= gl_no(data).options(alpha=0.1)\n",
    "static_area = area(data).options(alpha=0.1)\n",
    "static_vol = vol(data).options(alpha=0.1)"
   ]
  },
  {
   "cell_type": "markdown",
   "metadata": {},
   "source": [
    "### Dynamic selection "
   ]
  },
  {
   "cell_type": "code",
   "execution_count": null,
   "metadata": {},
   "outputs": [],
   "source": [
    "def combine_selections(**kwargs):\n",
    "    \"\"\"\n",
    "    Combines selections on all available plots into a single selection by index.\n",
    "    \"\"\"\n",
    "    if all(not v for v in kwargs.values()):\n",
    "        return slice(None)\n",
    "    selection = {}\n",
    "    for key, bounds in kwargs.items():\n",
    "        if bounds is None:\n",
    "            continue\n",
    "        elif len(bounds) == 2:\n",
    "            selection[key] = bounds\n",
    "        else:\n",
    "            xbound, ybound = key.split('__')\n",
    "            selection[xbound] = bounds[0], bounds[2]\n",
    "            selection[ybound] = bounds[1], bounds[3]\n",
    "    return sorted(set(data.select(**selection).data.index))\n",
    "\n",
    "def select_data(**kwargs):\n",
    "    dyn_data = data.iloc[combine_selections(**kwargs)] if kwargs else data\n",
    "    sealevelrise.event(data=dyn_data)\n",
    "    elevation.event(data=dyn_data)\n",
    "    temperature.event(data=dyn_data)\n",
    "    precipitation.event(data=dyn_data)\n",
    "    trends.event(data=dyn_data)\n",
    "    dyn_count1.event(data=dyn_data)\n",
    "    dyn_count2.event(data=dyn_data)\n",
    "    dyn_count3.event(data=dyn_data)\n",
    "    dyn_slr_text.event(data=dyn_data)\n",
    "    return dyn_data\n",
    "\n",
    "def clear_selections(arg=None):\n",
    "    geo_bounds.update(bounds=None)\n",
    "    elev_bounds.update(bounds=None)\n",
    "    temp_bounds.update(boundsx=None)\n",
    "    prcp_bounds.update(boundsx=None)\n",
    "    tren_bounds.update(boundsx=None)\n",
    "    Stream.trigger(selections)"
   ]
  },
  {
   "cell_type": "markdown",
   "metadata": {},
   "source": [
    "### Dynamic plots "
   ]
  },
  {
   "cell_type": "code",
   "execution_count": null,
   "metadata": {
    "scrolled": true
   },
   "outputs": [],
   "source": [
    "from holoviews.streams import Stream, BoundsXY, BoundsX\n",
    "\n",
    "geo_bounds  = BoundsXY(source=static_geo,  rename= {'bounds':  'CenLon__CenLat'})\n",
    "elev_bounds = BoundsXY(source=static_elev, rename= {'bounds':  'Zmed__latdeg'})\n",
    "temp_bounds = BoundsX( source=static_temp, rename= {'boundsx': 'era5_avg_temp_at_zmed'})\n",
    "prcp_bounds = BoundsX( source=static_prcp, rename= {'boundsx': 'era5_avg_pcp'})\n",
    "tren_bounds = BoundsX( source= static_tren, rename= {'boundsx': 'era5_trend'})\n",
    "\n",
    "selections  = [geo_bounds, elev_bounds, temp_bounds, prcp_bounds, tren_bounds]\n",
    "\n",
    "dyn_data  = hv.DynamicMap(select_data, streams=selections)\n",
    "\n",
    "dyn_geo   = rasterize(dyn_data.apply(geo),  **geo_kw).options( **geo_opts)\n",
    "dyn_elev  = datashade(dyn_data.apply(elev), **elev_kw).options(**elev_opts)\n",
    "dyn_gl_no =           dyn_data.apply(gl_no)\n",
    "dyn_area  =           dyn_data.apply(area)\n",
    "dyn_vol   =           dyn_data.apply(vol)\n",
    "\n",
    "parameter = dict(data=data, change=False)\n",
    "data_stream = Stream.define(name='data_stream', **parameter)\n",
    "\n",
    "sealevelrise = hv.DynamicMap(slr,     streams=[data_stream()])\n",
    "temperature  = hv.DynamicMap(temp,    streams=[data_stream()])\n",
    "precipitation= hv.DynamicMap(prcp,    streams=[data_stream()])\n",
    "trends       = hv.DynamicMap(tren,    streams=[data_stream()])\n",
    "dyn_count1   = hv.DynamicMap(count1,  streams=[data_stream()])\n",
    "dyn_count2   = hv.DynamicMap(count2,  streams=[data_stream()])\n",
    "dyn_count3   = hv.DynamicMap(count3,  streams=[data_stream()])\n",
    "dyn_slr_text = hv.DynamicMap(slr_text,streams=[data_stream()])\n",
    "\n",
    "geo_bg = gv.tile_sources.EsriImagery.options(alpha=1.0, bgcolor=\"white\")\n",
    "geomap = geo_bg * static_geo  * dyn_geo\n",
    "elevation       = static_elev * dyn_elev\n",
    "gl_num          = static_gl_no * dyn_gl_no\n",
    "area_bar        = static_area * dyn_area\n",
    "vol_bar         = static_vol * dyn_vol"
   ]
  },
  {
   "cell_type": "code",
   "execution_count": null,
   "metadata": {},
   "outputs": [],
   "source": [
    "# set range\n",
    "elevation = elevation.redim(latdeg=dict(range=(-90, 90)), Zmed=dict(range=(0, 8000)))"
   ]
  },
  {
   "cell_type": "code",
   "execution_count": null,
   "metadata": {},
   "outputs": [],
   "source": [
    "def set_button_name_language():\n",
    "    clear_button.name={'en': 'Clear selection',\n",
    "                       'de': 'Auswahl aufheben'}[language]\n",
    "clear_button = pn.widgets.Button(name='Clear selection', width=170)\n",
    "clear_button.param.watch(clear_selections, 'clicks')\n",
    "set_button_name_language()"
   ]
  },
  {
   "cell_type": "code",
   "execution_count": null,
   "metadata": {},
   "outputs": [],
   "source": [
    "def language_selector_function(arg=None):\n",
    "    global language\n",
    "    language = language_selector.value\n",
    "    change_language()\n",
    "\n",
    "def change_language(arg=None):\n",
    "    global change_index\n",
    "    set_instr_text()\n",
    "    set_explanation_text()\n",
    "    set_button_name_language()\n",
    "    elevation.event(change=change_index)\n",
    "    sealevelrise.event(change=change_index)\n",
    "    temperature.event(change=change_index)\n",
    "    precipitation.event(change=change_index)\n",
    "    trends.event(change=change_index)\n",
    "    dyn_count1.event(change=change_index)\n",
    "    dyn_count2.event(change=change_index)\n",
    "    dyn_count3.event(change=change_index)\n",
    "    dyn_slr_text.event(change=change_index)\n",
    "    change_index = not change_index\n",
    "    \n",
    "language_selector = pn.widgets.RadioBoxGroup(name='select your language',\n",
    "                                             options=['en', 'de'],\n",
    "                                             inline=True,\n",
    "                                             margin=(0, 0),\n",
    "                                             width=70)\n",
    "language_selector.param.watch(language_selector_function, 'value')"
   ]
  },
  {
   "cell_type": "markdown",
   "metadata": {},
   "source": [
    "## Put everything together "
   ]
  },
  {
   "cell_type": "code",
   "execution_count": null,
   "metadata": {},
   "outputs": [],
   "source": [
    "oggm_logo   = '<a href=\"https://edu.oggm.org\"><img src=\"https://raw.githubusercontent.com/OGGM/world-glacier-explorer/master/img/logo_edu.png\" width=180 height=79></a>'\n",
    "fk_logo   = '<a href=\"https://www.uibk.ac.at/foerderkreis1669/\"><img src=\"https://raw.githubusercontent.com/OGGM/world-glacier-explorer/master/img/logo_1669.png\" width=180 height=79></a>'\n",
    "pn_logo     = '<a href=\"https://panel.pyviz.org\"><img src=\"https://panel.pyviz.org/_static/logo_stacked.png\" width=46 height=39></a>'\n",
    "holo_logo   = '<a href=\"https://holoviz.org/\"><img src=\"https://raw.githubusercontent.com/pyviz/holoviews/master/doc/_static/logo.png\" width=46 height=39></a>'\n",
    "dasha_logo   = '<a href=\"https://datashader.org/\"><img src=\"https://raw.githubusercontent.com/pyviz/datashader/master/doc/_static/datashader-logo.png\" width=46 height=39></a>'\n",
    "\n",
    "logos = pn.Row(pn.layout.Spacer(width=10), pn_logo, holo_logo, dasha_logo)\n",
    "\n",
    "left = pn.Column(oggm_logo, pn.layout.Spacer(height=1), logos, pn.layout.Spacer(height=1), fk_logo, pn.layout.Spacer(height=20), clear_button)"
   ]
  },
  {
   "cell_type": "code",
   "execution_count": null,
   "metadata": {},
   "outputs": [],
   "source": [
    "bars = pn.Row(pn.Column(pn.layout.Spacer(height=1), \n",
    "                        pn.Pane(dyn_count1), pn.layout.Spacer(height=0), pn.Pane(gl_num, linked_axes=False), \n",
    "                        pn.Pane(dyn_count2), pn.layout.Spacer(height=0), pn.Pane(area_bar, linked_axes=False), \n",
    "                        pn.Pane(dyn_count3), pn.layout.Spacer(height=0), pn.Pane(vol_bar, linked_axes=False), \n",
    "                        pn.Pane(dyn_slr_text), pn.layout.Spacer(height=1)), \n",
    "              pn.Pane(sealevelrise, linked_axes=False)\n",
    "             )"
   ]
  },
  {
   "cell_type": "code",
   "execution_count": null,
   "metadata": {},
   "outputs": [],
   "source": [
    "title       = '<div style=\"font-size:35px\">World glaciers explorer</div>'\n",
    "instruction = pn.pane.Markdown(sizing_mode='stretch_width', height=100)\n",
    "def set_instr_text():\n",
    "    instruction.object = {'en': ( 'Choose your region of interest by clicking and dragging the mouse in the map or in the other figures.<br>'\n",
    "                                  '<b>Reset your selection with the \"Clear selection\" '\n",
    "                                  'button on the left</b>.<br>'\n",
    "                                  'For more information about the app and our data sources, visit  '\n",
    "                                  '<a href=\"http://edu.oggm.org/en/latest/explorer.html\">edu.oggm.org</a>'),\n",
    "                          \n",
    "                          'de': ( 'Wähle eine Region aus, indem du mit der Maus in der Weltkarte oder in den anderen Graphiken klickst und ziehst. <br>'\n",
    "                                  '<b>Setze deine Auswahl mit dem \"Auswahl aufheben\"-Button auf der linken Seite zurück</b>. Für mehr Informationen zu der App und '\n",
    "                                  'den Datenquellen gehe auf <a href=\"http://edu.oggm.org/en/latest/explorer.html\">edu.oggm.org</a>.')\n",
    "                         }[language]\n",
    "set_instr_text()\n",
    "\n",
    "explanation = pn.pane.Markdown(sizing_mode='stretch_width', height=100)\n",
    "\n",
    "def set_explanation_text():\n",
    "    explanation.object = {'en': ( 'Abbrevations:<br>'\n",
    "                                 '\"asl\": above sea level, all glaciers volume is counted here that is above sea level<br>'\n",
    "                                  '\"bsl\": below sea level, all glaciers volume is counted here that is below sea level in the ocean. e.g. grounded'\n",
    "                                ),\n",
    "                          \n",
    "                          'de': ( 'Abkürzungen:<br>'\n",
    "                                  '\"asl\" (above sea level): diese Rubrik umfasst das Gletschervolumen, das sich oberhalb des Meeresspiegels befindet. <br>'\n",
    "                                  '\"bsl\" (below sea level): diese Rubrik umfasst das Gletschervolumen, das sich unterhalb des Meerespiegels befindet, also z.B. bis auf den Meeresboden reicht. <br><br>'\n",
    "                                  'Anmerkungen:<br>'\n",
    "                                  'Latitude = Breitengrad <br>'\n",
    "                                  'Longitude = Längengrad <br>'\n",
    "                                  'Mean elevation of the glacier = Mittlere Gletscherhöhe')\n",
    "                         }[language]\n",
    "\n",
    "set_instr_text()\n",
    "set_explanation_text()\n",
    "\n",
    "overview = pn.Column(pn.Pane(title, width=400), \n",
    "                     pn.Pane(instruction, width=470), \n",
    "                     bars)"
   ]
  },
  {
   "cell_type": "code",
   "execution_count": null,
   "metadata": {},
   "outputs": [],
   "source": [
    "plots = pn.Row(pn.layout.Spacer(width=25), trends, pn.layout.Spacer(width=5), temperature, pn.layout.Spacer(width=5), precipitation, pn.layout.Spacer(width=5), elevation)"
   ]
  },
  {
   "cell_type": "code",
   "execution_count": null,
   "metadata": {},
   "outputs": [],
   "source": [
    "top = pn.Row(left, pn.layout.Spacer(width=40), overview, pn.layout.Spacer(width=85), geomap)"
   ]
  },
  {
   "cell_type": "code",
   "execution_count": null,
   "metadata": {},
   "outputs": [],
   "source": [
    "app = pn.Column(pn.Row(pn.layout.Spacer(width=1360), language_selector),\n",
    "                top,\n",
    "                pn.layout.Spacer(height=5),\n",
    "                plots,\n",
    "               explanation)"
   ]
  },
  {
   "cell_type": "code",
   "execution_count": null,
   "metadata": {},
   "outputs": [],
   "source": [
    "app.show()"
   ]
  },
  {
   "cell_type": "code",
   "execution_count": null,
   "metadata": {},
   "outputs": [],
   "source": []
  }
 ],
 "metadata": {
  "hide_input": false,
  "kernelspec": {
   "display_name": "Python 3",
   "language": "python",
   "name": "python3"
  },
  "language_info": {
   "codemirror_mode": {
    "name": "ipython",
    "version": 3
   },
   "file_extension": ".py",
   "mimetype": "text/x-python",
   "name": "python",
   "nbconvert_exporter": "python",
   "pygments_lexer": "ipython3",
   "version": "3.6.7"
  },
  "latex_envs": {
   "LaTeX_envs_menu_present": true,
   "autoclose": false,
   "autocomplete": true,
   "bibliofile": "biblio.bib",
   "cite_by": "apalike",
   "current_citInitial": 1,
   "eqLabelWithNumbers": true,
   "eqNumInitial": 1,
   "hotkeys": {
    "equation": "Ctrl-E",
    "itemize": "Ctrl-I"
   },
   "labels_anchors": false,
   "latex_user_defs": false,
   "report_style_numbering": false,
   "user_envs_cfg": false
  },
  "nbTranslate": {
   "displayLangs": [
    "*"
   ],
   "hotkey": "alt-t",
   "langInMainMenu": true,
   "sourceLang": "en",
   "targetLang": "fr",
   "useGoogleTranslate": true
  },
  "toc": {
   "base_numbering": 1,
   "nav_menu": {},
   "number_sections": false,
   "sideBar": true,
   "skip_h1_title": true,
   "title_cell": "Table of Contents",
   "title_sidebar": "Contents",
   "toc_cell": false,
   "toc_position": {},
   "toc_section_display": true,
   "toc_window_display": false
  }
 },
 "nbformat": 4,
 "nbformat_minor": 2
}
